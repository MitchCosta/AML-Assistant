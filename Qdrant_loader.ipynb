{
 "cells": [
  {
   "cell_type": "code",
   "execution_count": null,
   "metadata": {},
   "outputs": [],
   "source": []
  },
  {
   "cell_type": "code",
   "execution_count": 1,
   "metadata": {},
   "outputs": [],
   "source": [
    "from langchain_community.vectorstores import Qdrant"
   ]
  },
  {
   "cell_type": "code",
   "execution_count": 2,
   "metadata": {},
   "outputs": [],
   "source": [
    "from qdrant_client import QdrantClient, models\n",
    "\n",
    "client = QdrantClient(path=\"Qdrant_db\")"
   ]
  },
  {
   "cell_type": "code",
   "execution_count": 3,
   "metadata": {},
   "outputs": [],
   "source": [
    "from langchain_openai.embeddings import OpenAIEmbeddings\n",
    "\n",
    "embedding_model = OpenAIEmbeddings(model=\"text-embedding-3-small\")"
   ]
  },
  {
   "cell_type": "code",
   "execution_count": 4,
   "metadata": {},
   "outputs": [],
   "source": [
    "collection_name = \"AML_act\"\n",
    "qdrant =  Qdrant(client, collection_name, embedding_model)"
   ]
  },
  {
   "cell_type": "code",
   "execution_count": 5,
   "metadata": {},
   "outputs": [],
   "source": [
    "qdrant_retriever = qdrant.as_retriever()"
   ]
  },
  {
   "cell_type": "code",
   "execution_count": 6,
   "metadata": {},
   "outputs": [
    {
     "data": {
      "text/plain": [
       "[Document(page_content='• \\nElectronic funds transfer instructions must include certain \\ninformation about the origin of the transferred money. \\nAuthorised Version C2023C00383 registered 31/10/2023', metadata={'source': 'Data/C2023C00383.pdf', 'file_path': 'Data/C2023C00383.pdf', 'page': 145, 'total_pages': 380, 'format': 'PDF 1.4', 'title': '', 'author': '', 'subject': '', 'keywords': '', 'creator': 'Aspose Ltd.', 'producer': 'Aspose.PDF for .NET 22.3.0', 'creationDate': \"D:20231030233312+00'00'\", 'modDate': \"D:20231030233758+00'00'\", 'trapped': '', '_id': 'c1c8fc0171174a4a9735884c62aaafd9', '_collection_name': 'AML_act'}),\n",
       " Document(page_content='the notice) to include required transfer information in all \\nfuture electronic funds transfer instructions passed on by the \\nordering institution to the beneficiary institution; \\nthe beneficiary institution must comply with the direction within \\n10 business days after the day on which the direction is given. \\nReport by beneficiary institution', metadata={'source': 'Data/C2023C00383.pdf', 'file_path': 'Data/C2023C00383.pdf', 'page': 150, 'total_pages': 380, 'format': 'PDF 1.4', 'title': '', 'author': '', 'subject': '', 'keywords': '', 'creator': 'Aspose Ltd.', 'producer': 'Aspose.PDF for .NET 22.3.0', 'creationDate': \"D:20231030233312+00'00'\", 'modDate': \"D:20231030233758+00'00'\", 'trapped': '', '_id': 'e11b10d89d8c4db8a8ed185c353def33', '_collection_name': 'AML_act'}),\n",
       " Document(page_content='international electronic funds transfer instructions ........................ \\n134 \\nDivision 3—Only one institution involved in the transfer \\n137 \\n66 \\nElectronic funds transfer instructions—only one institution \\ninvolved in the transfer .................................................................. \\n137 \\nDivision 4—General provisions \\n139 \\n67 \\nExemptions', metadata={'source': 'Data/C2023C00383.pdf', 'file_path': 'Data/C2023C00383.pdf', 'page': 5, 'total_pages': 380, 'format': 'PDF 1.4', 'title': '', 'author': '', 'subject': '', 'keywords': '', 'creator': 'Aspose Ltd.', 'producer': 'Aspose.PDF for .NET 22.3.0', 'creationDate': \"D:20231030233312+00'00'\", 'modDate': \"D:20231030233758+00'00'\", 'trapped': '', '_id': 'e9a739946a5245ba9d82436a16d2fd0e', '_collection_name': 'AML_act'}),\n",
       " Document(page_content='involved in the transfer \\nScope \\n \\n(1) This section applies to: \\n \\n(a) a multiple-institution person-to-person electronic funds \\ntransfer instruction; or \\n \\n(b) a multiple-institution same-person electronic funds transfer \\ninstruction. \\nNote: \\nFor exemptions, see section 67. \\nFunds transfer chain \\n \\n(2) For the purposes of this Act: \\n \\n(a) the following persons are taken to form a funds transfer', metadata={'source': 'Data/C2023C00383.pdf', 'file_path': 'Data/C2023C00383.pdf', 'page': 146, 'total_pages': 380, 'format': 'PDF 1.4', 'title': '', 'author': '', 'subject': '', 'keywords': '', 'creator': 'Aspose Ltd.', 'producer': 'Aspose.PDF for .NET 22.3.0', 'creationDate': \"D:20231030233312+00'00'\", 'modDate': \"D:20231030233758+00'00'\", 'trapped': '', '_id': 'fa2f8bef0dc54678b10cadc77de6b863', '_collection_name': 'AML_act'})]"
      ]
     },
     "execution_count": 6,
     "metadata": {},
     "output_type": "execute_result"
    }
   ],
   "source": [
    "query = \"do i need transfer information when receiving an electronic funds transfer?\"\n",
    "qdrant_retriever.invoke(query)"
   ]
  },
  {
   "cell_type": "code",
   "execution_count": 7,
   "metadata": {},
   "outputs": [],
   "source": [
    "from langchain_openai import ChatOpenAI\n",
    "\n",
    "openai_chat_model = ChatOpenAI(model=\"gpt-3.5-turbo\")  #, temperature=0.0"
   ]
  },
  {
   "cell_type": "code",
   "execution_count": 8,
   "metadata": {},
   "outputs": [],
   "source": [
    "from langchain_core.prompts import ChatPromptTemplate"
   ]
  },
  {
   "cell_type": "code",
   "execution_count": 9,
   "metadata": {},
   "outputs": [],
   "source": [
    "system_message = \"You are a helpful assistante, experienced lawyer and an expert reading SECURITIES AND EXCHANGE COMMISSION documents\""
   ]
  },
  {
   "cell_type": "code",
   "execution_count": 10,
   "metadata": {},
   "outputs": [],
   "source": [
    "RAG_PROMPT = \"\"\"\n",
    "\n",
    "CONTEXT:\n",
    "{context}\n",
    "\n",
    "QUERY:\n",
    "{question}\n",
    "\n",
    "Answer the query above using the context provided. If you don't know the answer responde with: I don't know\n",
    "\"\"\"\n",
    "\n",
    "rag_prompt = ChatPromptTemplate.from_template(RAG_PROMPT)"
   ]
  },
  {
   "cell_type": "code",
   "execution_count": 11,
   "metadata": {},
   "outputs": [],
   "source": [
    "from langchain.retrievers import MultiQueryRetriever\n",
    "\n",
    "advanced_retriever = MultiQueryRetriever.from_llm(retriever=qdrant_retriever, llm=openai_chat_model)\n"
   ]
  },
  {
   "cell_type": "code",
   "execution_count": 12,
   "metadata": {},
   "outputs": [
    {
     "data": {
      "text/plain": [
       "ChatPromptTemplate(input_variables=['context', 'question'], messages=[HumanMessagePromptTemplate(prompt=PromptTemplate(input_variables=['context', 'question'], template=\"\\n\\nCONTEXT:\\n{context}\\n\\nQUERY:\\n{question}\\n\\nAnswer the query above using the context provided. If you don't know the answer responde with: I don't know\\n\"))])"
      ]
     },
     "execution_count": 12,
     "metadata": {},
     "output_type": "execute_result"
    }
   ],
   "source": [
    "rag_prompt"
   ]
  },
  {
   "cell_type": "code",
   "execution_count": 13,
   "metadata": {},
   "outputs": [],
   "source": [
    "from operator import itemgetter\n",
    "from langchain.schema.output_parser import StrOutputParser\n",
    "from langchain.schema.runnable import RunnablePassthrough\n",
    "\n",
    "retrieval_augmented_qa_chain = (\n",
    "    # INVOKE CHAIN WITH: {\"question\" : \"<<SOME USER QUESTION>>\"}\n",
    "    # \"question\" : populated by getting the value of the \"question\" key\n",
    "    # \"context\"  : populated by getting the value of the \"question\" key and chaining it into the base_retriever\n",
    "    {\"context\": itemgetter(\"question\") | advanced_retriever, \"question\": itemgetter(\"question\")}\n",
    "    # \"context\"  : is assigned to a RunnablePassthrough object (will not be called or considered in the next step)\n",
    "    #              by getting the value of the \"context\" key from the previous step\n",
    "    | RunnablePassthrough.assign(context=itemgetter(\"context\"))\n",
    "    # \"response\" : the \"context\" and \"question\" values are used to format our prompt object and then piped\n",
    "    #              into the LLM and stored in a key called \"response\"\n",
    "    # \"context\"  : populated by getting the value of the \"context\" key from the previous step\n",
    "    | {\"response\": rag_prompt | openai_chat_model, \"context\": itemgetter(\"context\")}\n",
    ")"
   ]
  },
  {
   "cell_type": "markdown",
   "metadata": {},
   "source": [
    "\n",
    "\"What was the total value of 'Cash and cash equivalents' as of December 31, 2023?\"\n",
    "\n",
    "\"Who are Meta's 'Directors' (i.e., members of the Board of Directors)?\""
   ]
  },
  {
   "cell_type": "code",
   "execution_count": 14,
   "metadata": {},
   "outputs": [
    {
     "data": {
      "text/plain": [
       "AIMessage(content=\"I don't know\", response_metadata={'token_usage': {'completion_tokens': 4, 'prompt_tokens': 48, 'total_tokens': 52}, 'model_name': 'gpt-3.5-turbo', 'system_fingerprint': None, 'finish_reason': 'stop', 'logprobs': None}, id='run-c09eb19f-2452-48de-b2b3-dfbf4f7ca3db-0')"
      ]
     },
     "execution_count": 14,
     "metadata": {},
     "output_type": "execute_result"
    }
   ],
   "source": [
    "retr = (rag_prompt | openai_chat_model)\n",
    "resp = retr.invoke({\"question\" : \"What was the total value \", \"context\": \"sdfsfsdfs\", \"system_message\" : \"dfgdfg\"})\n",
    "resp"
   ]
  },
  {
   "cell_type": "code",
   "execution_count": 15,
   "metadata": {},
   "outputs": [
    {
     "data": {
      "text/plain": [
       "'The AML/CTF Rules are prescribed by the AUSTRAC CEO through writing, as stated in Division 7 of the Anti-Money Laundering and Counter-Terrorism Financing Act 2006.'"
      ]
     },
     "execution_count": 15,
     "metadata": {},
     "output_type": "execute_result"
    }
   ],
   "source": [
    "response = retrieval_augmented_qa_chain.invoke({\"question\" : \"where are  the aml ctf rules?\"})\n",
    "response[\"response\"].content"
   ]
  },
  {
   "cell_type": "code",
   "execution_count": 16,
   "metadata": {},
   "outputs": [
    {
     "data": {
      "text/plain": [
       "{'response': AIMessage(content='The AML/CTF Rules are prescribed by the AUSTRAC CEO through writing, as stated in Division 7 of the Anti-Money Laundering and Counter-Terrorism Financing Act 2006.', response_metadata={'token_usage': {'completion_tokens': 43, 'prompt_tokens': 1332, 'total_tokens': 1375}, 'model_name': 'gpt-3.5-turbo', 'system_fingerprint': None, 'finish_reason': 'stop', 'logprobs': None}, id='run-1d11a983-a1e5-4cec-8af9-52fbec798271-0'),\n",
       " 'context': [Document(page_content='Administration  Part 16 \\nAML/CTF Rules  Division 7 \\n \\nSection 229 \\n \\n \\nAnti-Money Laundering and Counter-Terrorism Financing Act 2006 \\n321 \\nCompilation No. 56 \\nCompilation date: 20/10/2023 \\nRegistered: 31/10/2023 \\n \\nDivision 7—AML/CTF Rules \\n229  AML/CTF Rules \\n \\n(1) The AUSTRAC CEO may, by writing, make rules (the AML/CTF \\nRules) prescribing matters required or permitted by any other', metadata={'source': 'Data/C2023C00383.pdf', 'file_path': 'Data/C2023C00383.pdf', 'page': 336, 'total_pages': 380, 'format': 'PDF 1.4', 'title': '', 'author': '', 'subject': '', 'keywords': '', 'creator': 'Aspose Ltd.', 'producer': 'Aspose.PDF for .NET 22.3.0', 'creationDate': \"D:20231030233312+00'00'\", 'modDate': \"D:20231030233758+00'00'\", 'trapped': '', '_id': '14e7efb9a1e245c99190fbe35ab3f52d', '_collection_name': 'AML_act'}),\n",
       "  Document(page_content='provision of this Act to be prescribed by the AML/CTF Rules. \\nNote 1: \\nAML/CTF Rules is short for Anti-Money \\nLaundering/Counter-Terrorism Financing Rules. \\nNote 2: \\nFor amendment and repeal, see subsection 33(3) of the Acts \\nInterpretation Act 1901. \\n \\n(2) AML/CTF Rules are legislative instruments. \\nMinisterial directions with respect to the making of AML/CTF \\nRules', metadata={'source': 'Data/C2023C00383.pdf', 'file_path': 'Data/C2023C00383.pdf', 'page': 336, 'total_pages': 380, 'format': 'PDF 1.4', 'title': '', 'author': '', 'subject': '', 'keywords': '', 'creator': 'Aspose Ltd.', 'producer': 'Aspose.PDF for .NET 22.3.0', 'creationDate': \"D:20231030233312+00'00'\", 'modDate': \"D:20231030233758+00'00'\", 'trapped': '', '_id': 'f63dd1430a8242eb98888d8c50765432', '_collection_name': 'AML_act'}),\n",
       "  Document(page_content='(a) take such action as is specified in the AML/CTF Rules; and \\nAuthorised Version C2023C00383 registered 31/10/2023', metadata={'source': 'Data/C2023C00383.pdf', 'file_path': 'Data/C2023C00383.pdf', 'page': 94, 'total_pages': 380, 'format': 'PDF 1.4', 'title': '', 'author': '', 'subject': '', 'keywords': '', 'creator': 'Aspose Ltd.', 'producer': 'Aspose.PDF for .NET 22.3.0', 'creationDate': \"D:20231030233312+00'00'\", 'modDate': \"D:20231030233758+00'00'\", 'trapped': '', '_id': '0f9c2d857fe6464d96d04f5b202057d8', '_collection_name': 'AML_act'}),\n",
       "  Document(page_content='• \\nThe AUSTRAC CEO may make AML/CTF Rules. \\nAuthorised Version C2023C00383 registered 31/10/2023', metadata={'source': 'Data/C2023C00383.pdf', 'file_path': 'Data/C2023C00383.pdf', 'page': 320, 'total_pages': 380, 'format': 'PDF 1.4', 'title': '', 'author': '', 'subject': '', 'keywords': '', 'creator': 'Aspose Ltd.', 'producer': 'Aspose.PDF for .NET 22.3.0', 'creationDate': \"D:20231030233312+00'00'\", 'modDate': \"D:20231030233758+00'00'\", 'trapped': '', '_id': '81b834e6e5bd495292a3f64aa0a4411b', '_collection_name': 'AML_act'}),\n",
       "  Document(page_content='the AML/CTF Rules. \\n68  Defence of relying on information supplied by another person \\nScope \\n \\n(1) This section applies to section 175 proceedings for a contravention \\nof a civil penalty provision of Division 2 or 3. \\nDefence \\n \\n(2) In the proceedings, it is a defence if the defendant proves that: \\nAuthorised Version C2023C00383 registered 31/10/2023', metadata={'source': 'Data/C2023C00383.pdf', 'file_path': 'Data/C2023C00383.pdf', 'page': 155, 'total_pages': 380, 'format': 'PDF 1.4', 'title': '', 'author': '', 'subject': '', 'keywords': '', 'creator': 'Aspose Ltd.', 'producer': 'Aspose.PDF for .NET 22.3.0', 'creationDate': \"D:20231030233312+00'00'\", 'modDate': \"D:20231030233758+00'00'\", 'trapped': '', '_id': 'ef4aa53d405f48078e8e067bd576ccfc', '_collection_name': 'AML_act'})]}"
      ]
     },
     "execution_count": 16,
     "metadata": {},
     "output_type": "execute_result"
    }
   ],
   "source": [
    "response"
   ]
  },
  {
   "cell_type": "code",
   "execution_count": null,
   "metadata": {},
   "outputs": [],
   "source": []
  },
  {
   "cell_type": "markdown",
   "metadata": {},
   "source": [
    "Q: do i need transfer information when receiving an electronic funds transfer\n",
    "A:\n",
    "\n",
    "Q:what session refers to receiving an electronic funds transfer?\n",
    "A:'The session that refers to receiving an electronic funds transfer is the \"Retention of records about electronic funds transfer instructions\" as mentioned in the provided context.'\n",
    "\n",
    "Q:Where can I find the specific requirements and procedures for Customer Due Diligence (CDD) under AML/CTF Act 2006 ?\n",
    "A:'You can find the specific requirements and procedures for Customer Due Diligence (CDD) under the AML/CTF Act 2006 in Part 2, Division 6, Section 36 of the Anti-Money Laundering and Counter-Terrorism Financing Act 2006.'\n",
    "\n",
    "\n"
   ]
  },
  {
   "cell_type": "code",
   "execution_count": 10,
   "metadata": {},
   "outputs": [],
   "source": [
    "from langchain_community.tools import DuckDuckGoSearchRun\n",
    "from langchain_community.utilities import DuckDuckGoSearchAPIWrapper\n",
    "\n",
    "from langchain.tools.retriever import create_retriever_tool"
   ]
  },
  {
   "cell_type": "code",
   "execution_count": null,
   "metadata": {},
   "outputs": [],
   "source": [
    "retreiver_tool = create_retriever_tool(\n",
    "    advanced_retriever,\n",
    "    \"search_aml_act_retriever\",\n",
    "    \"Searches and returns excerpts from the aml act in australia.\",\n",
    ")"
   ]
  },
  {
   "cell_type": "code",
   "execution_count": 19,
   "metadata": {},
   "outputs": [],
   "source": [
    "tool_belt = [DuckDuckGoSearchRun(), retreiver_tool]   #  "
   ]
  },
  {
   "cell_type": "code",
   "execution_count": 21,
   "metadata": {},
   "outputs": [
    {
     "data": {
      "text/plain": [
       "'water, a substance composed of the chemical elements hydrogen and oxygen and existing in gaseous, liquid, and solid states. It is one of the most plentiful and essential of compounds.A tasteless and odourless liquid at room temperature, it has the important ability to dissolve many other substances. Indeed, the versatility of water as a solvent is essential to living organisms.'"
      ]
     },
     "execution_count": 21,
     "metadata": {},
     "output_type": "execute_result"
    }
   ],
   "source": [
    "wrapper = DuckDuckGoSearchAPIWrapper(region=\"en-en\", max_results=1)\n",
    "search2 = DuckDuckGoSearchRun(api_wrapper=wrapper)\n",
    "search2.run(\"water\")"
   ]
  },
  {
   "cell_type": "code",
   "execution_count": 21,
   "metadata": {},
   "outputs": [],
   "source": [
    "from langgraph.prebuilt import ToolExecutor\n",
    "\n",
    "tool_executor = ToolExecutor(tool_belt)"
   ]
  },
  {
   "cell_type": "code",
   "execution_count": 22,
   "metadata": {},
   "outputs": [],
   "source": [
    "model_aml = ChatOpenAI(temperature=0)"
   ]
  },
  {
   "cell_type": "code",
   "execution_count": 23,
   "metadata": {},
   "outputs": [],
   "source": [
    "from langchain_core.utils.function_calling import convert_to_openai_function\n",
    "\n",
    "functions = [convert_to_openai_function(t) for t in tool_belt]\n",
    "model_aml = model_aml.bind_functions(functions)"
   ]
  },
  {
   "cell_type": "code",
   "execution_count": 24,
   "metadata": {},
   "outputs": [
    {
     "data": {
      "text/plain": [
       "[{'name': 'duckduckgo_search',\n",
       "  'description': 'A wrapper around DuckDuckGo Search. Useful for when you need to answer questions about current events. Input should be a search query.',\n",
       "  'parameters': {'type': 'object',\n",
       "   'properties': {'query': {'description': 'search query to look up',\n",
       "     'type': 'string'}},\n",
       "   'required': ['query']}},\n",
       " {'name': 'search_aml_act_retriever',\n",
       "  'description': 'Searches and returns excerpts from the aml act in australia.',\n",
       "  'parameters': {'type': 'object',\n",
       "   'properties': {'query': {'description': 'query to look up in retriever',\n",
       "     'type': 'string'}},\n",
       "   'required': ['query']}}]"
      ]
     },
     "execution_count": 24,
     "metadata": {},
     "output_type": "execute_result"
    }
   ],
   "source": [
    "functions"
   ]
  },
  {
   "cell_type": "code",
   "execution_count": 25,
   "metadata": {},
   "outputs": [],
   "source": [
    "from typing import TypedDict, Annotated\n",
    "from langgraph.graph.message import add_messages\n",
    "import operator\n",
    "from langchain_core.messages import BaseMessage\n",
    "\n",
    "class AgentState(TypedDict):\n",
    "  messages: Annotated[list, add_messages]"
   ]
  },
  {
   "cell_type": "code",
   "execution_count": 26,
   "metadata": {},
   "outputs": [],
   "source": [
    "from langgraph.prebuilt import ToolInvocation\n",
    "import json\n",
    "from langchain_core.messages import FunctionMessage\n",
    "\n",
    "def call_model(state):\n",
    "  messages = state[\"messages\"]\n",
    "  response = model_aml.invoke(messages)\n",
    "  return {\"messages\" : [response]}\n",
    "\n",
    "def call_tool(state):\n",
    "  last_message = state[\"messages\"][-1]\n",
    "\n",
    "  action = ToolInvocation(\n",
    "      tool=last_message.additional_kwargs[\"function_call\"][\"name\"],\n",
    "      tool_input=json.loads(\n",
    "          last_message.additional_kwargs[\"function_call\"][\"arguments\"]\n",
    "      )\n",
    "  )\n",
    "\n",
    "  response = tool_executor.invoke(action)\n",
    "\n",
    "  function_message = FunctionMessage(content=str(response), name=action.tool)\n",
    "\n",
    "  return {\"messages\" : [function_message]}"
   ]
  },
  {
   "cell_type": "code",
   "execution_count": 27,
   "metadata": {},
   "outputs": [],
   "source": [
    "from langgraph.graph import StateGraph, END\n",
    "\n",
    "workflow = StateGraph(AgentState)\n",
    "\n",
    "workflow.add_node(\"agent\", call_model)\n",
    "workflow.add_node(\"action\", call_tool)"
   ]
  },
  {
   "cell_type": "code",
   "execution_count": 28,
   "metadata": {},
   "outputs": [],
   "source": [
    "workflow.set_entry_point(\"agent\")"
   ]
  },
  {
   "cell_type": "code",
   "execution_count": 29,
   "metadata": {},
   "outputs": [],
   "source": [
    "def should_continue(state):\n",
    "  last_message = state[\"messages\"][-1]\n",
    "\n",
    "  if \"function_call\" not in last_message.additional_kwargs:\n",
    "    return \"end\"\n",
    "\n",
    "  return \"continue\"\n",
    "\n",
    "workflow.add_conditional_edges(\n",
    "    \"agent\",\n",
    "    should_continue,\n",
    "    {\n",
    "        \"continue\" : \"action\",\n",
    "        \"end\" : END\n",
    "    }\n",
    ")"
   ]
  },
  {
   "cell_type": "code",
   "execution_count": 30,
   "metadata": {},
   "outputs": [],
   "source": [
    "workflow.add_edge(\"action\", \"agent\")"
   ]
  },
  {
   "cell_type": "code",
   "execution_count": 31,
   "metadata": {},
   "outputs": [],
   "source": [
    "app = workflow.compile()"
   ]
  },
  {
   "cell_type": "code",
   "execution_count": 32,
   "metadata": {},
   "outputs": [
    {
     "data": {
      "text/plain": [
       "langgraph.graph.state.CompiledStateGraph"
      ]
     },
     "execution_count": 32,
     "metadata": {},
     "output_type": "execute_result"
    }
   ],
   "source": [
    "type(app)"
   ]
  },
  {
   "cell_type": "code",
   "execution_count": 33,
   "metadata": {},
   "outputs": [],
   "source": [
    "def print_messages(messages):\n",
    "  next_is_tool = False\n",
    "  initial_query = True\n",
    "  for message in messages[\"messages\"]:\n",
    "    if \"function_call\" in message.additional_kwargs:\n",
    "      print()\n",
    "      print(f'Tool Call - Name: {message.additional_kwargs[\"function_call\"][\"name\"]} + Query: {message.additional_kwargs[\"function_call\"][\"arguments\"]}')\n",
    "      next_is_tool = True\n",
    "      continue\n",
    "    if next_is_tool:\n",
    "      print(f\"Tool Response: {message.content}\")\n",
    "      next_is_tool = False\n",
    "      continue\n",
    "    if initial_query:\n",
    "      print(f\"Initial Query: {message.content}\")\n",
    "      print()\n",
    "      initial_query = False\n",
    "      continue\n",
    "    print()\n",
    "    print(f\"Agent Response: {message.content}\")"
   ]
  },
  {
   "cell_type": "markdown",
   "metadata": {},
   "source": [
    "how is the weather in sydney? \n",
    "what is aml?\n",
    "where are  the aml ctf rules?"
   ]
  },
  {
   "cell_type": "code",
   "execution_count": 42,
   "metadata": {},
   "outputs": [
    {
     "name": "stdout",
     "output_type": "stream",
     "text": [
      "Initial Query: my name is miguel\n",
      "\n",
      "\n",
      "Agent Response: Hello Miguel! How can I assist you today?\n"
     ]
    }
   ],
   "source": [
    "from langchain_core.messages import HumanMessage\n",
    "\n",
    "inputs = {\"messages\" : [HumanMessage(content=\"my name is miguel\")]}  #where are  the aml ctf rules\n",
    "\n",
    "messages = app.invoke(inputs)\n",
    "\n",
    "print_messages(messages)"
   ]
  },
  {
   "cell_type": "code",
   "execution_count": 43,
   "metadata": {},
   "outputs": [
    {
     "data": {
      "text/plain": [
       "{'messages': [HumanMessage(content='my name is miguel', id='979fc373-9a5d-4db0-aea6-94c6b3682391'),\n",
       "  AIMessage(content='Hello Miguel! How can I assist you today?', response_metadata={'token_usage': {'completion_tokens': 11, 'prompt_tokens': 123, 'total_tokens': 134}, 'model_name': 'gpt-3.5-turbo', 'system_fingerprint': None, 'finish_reason': 'stop', 'logprobs': None}, id='run-b95f72f6-86e4-4b17-89ff-a15cc896bbac-0')]}"
      ]
     },
     "execution_count": 43,
     "metadata": {},
     "output_type": "execute_result"
    }
   ],
   "source": [
    "messages"
   ]
  },
  {
   "cell_type": "code",
   "execution_count": 41,
   "metadata": {},
   "outputs": [
    {
     "data": {
      "text/plain": [
       "{'messages': [HumanMessage(content='where are  the aml ctf rules', id='f11aa083-e46d-4a53-9621-9d07deec01da'),\n",
       "  AIMessage(content='', additional_kwargs={'function_call': {'arguments': '{\"query\":\"AML CTF rules\"}', 'name': 'search_aml_act_retriever'}}, response_metadata={'token_usage': {'completion_tokens': 22, 'prompt_tokens': 127, 'total_tokens': 149}, 'model_name': 'gpt-3.5-turbo', 'system_fingerprint': None, 'finish_reason': 'function_call', 'logprobs': None}, id='run-8810ab57-fe93-413e-aabc-261bb68634ff-0'),\n",
       "  FunctionMessage(content='(3) To avoid doubt, AML/CTF Rules made for the purposes of \\nparagraph 86(1)(c) may require that, if: \\n \\n(a) a designated service is provided to a customer specified in \\nthe AML/CTF Rules; or \\n \\n(b) a designated service is provided to a customer in \\ncircumstances specified in the AML/CTF Rules; \\na special anti-money laundering and counter-terrorism financing\\n\\nAdministration  Part 16 \\nAML/CTF Rules  Division 7 \\n \\nSection 229 \\n \\n \\nAnti-Money Laundering and Counter-Terrorism Financing Act 2006 \\n321 \\nCompilation No. 56 \\nCompilation date: 20/10/2023 \\nRegistered: 31/10/2023 \\n \\nDivision 7—AML/CTF Rules \\n229  AML/CTF Rules \\n \\n(1) The AUSTRAC CEO may, by writing, make rules (the AML/CTF \\nRules) prescribing matters required or permitted by any other\\n\\nAnti-money laundering and counter-terrorism financing programs  Part 7 \\nAnti-money laundering and counter-terrorism financing programs  Division 3 \\n \\nSection 89 \\n \\n \\nAnti-Money Laundering and Counter-Terrorism Financing Act 2006 \\n187 \\nCompilation No. 56 \\nCompilation date: 20/10/2023 \\nRegistered: 31/10/2023 \\n \\n \\n(b) the customer does so in circumstances specified in the \\nAML/CTF Rules;\\n\\nprocedure for the customer must involve the taking of steps \\nspecified in the AML/CTF Rules in relation to the agent. \\nSpecial anti-money laundering and counter-terrorism financing \\nprogram \\n \\n(3) To avoid doubt, AML/CTF Rules made for the purposes of \\nparagraph 86(1)(c) may require that a special anti-money \\nlaundering and counter-terrorism financing program must provide \\nthat, if:\\n\\n(a) take such action as is specified in the AML/CTF Rules; and \\nAuthorised Version C2023C00383 registered 31/10/2023\\n\\nin the AML/CTF Rules. \\nPart B (customer identification) \\n \\n(3) Part B of a joint anti-money laundering and counter-terrorism \\nfinancing program is a part: \\n \\n(a) the sole or primary purpose of which is to set out the \\napplicable customer identification procedures for the \\npurposes of the application of this Act to customers of each \\nof those reporting entities; and\\n\\nthe AML/CTF Rules; or \\n \\n(b) a designated service is provided to a customer in \\ncircumstances specified in the AML/CTF Rules; \\nPart B of a standard anti-money laundering and counter-terrorism \\nfinancing program must provide that one or more elements of the \\napplicable customer identification procedure for the customer must \\ninvolve the reporting entity obtaining a certificate, to be known as', name='search_aml_act_retriever', id='5ec597fb-255a-43d0-b9cb-0eb4af8fb95b'),\n",
       "  AIMessage(content='The AML/CTF rules are outlined in the Anti-Money Laundering and Counter-Terrorism Financing Act 2006. The AUSTRAC CEO may make rules, known as the AML/CTF Rules, prescribing matters required or permitted by the Act. These rules specify procedures and actions to be taken in relation to anti-money laundering and counter-terrorism financing activities.', response_metadata={'token_usage': {'completion_tokens': 78, 'prompt_tokens': 764, 'total_tokens': 842}, 'model_name': 'gpt-3.5-turbo', 'system_fingerprint': None, 'finish_reason': 'stop', 'logprobs': None}, id='run-cbf8717b-e242-4709-8df7-7e324ebc6f6e-0')]}"
      ]
     },
     "execution_count": 41,
     "metadata": {},
     "output_type": "execute_result"
    }
   ],
   "source": [
    "messages"
   ]
  },
  {
   "cell_type": "code",
   "execution_count": 35,
   "metadata": {},
   "outputs": [],
   "source": [
    "from langchain.schema import StrOutputParser"
   ]
  },
  {
   "cell_type": "code",
   "execution_count": 36,
   "metadata": {},
   "outputs": [],
   "source": [
    "my_chain = app | StrOutputParser()"
   ]
  },
  {
   "cell_type": "code",
   "execution_count": 37,
   "metadata": {},
   "outputs": [
    {
     "data": {
      "text/plain": [
       "langchain_core.runnables.base.RunnableSequence"
      ]
     },
     "execution_count": 37,
     "metadata": {},
     "output_type": "execute_result"
    }
   ],
   "source": [
    "type(my_chain)"
   ]
  },
  {
   "cell_type": "code",
   "execution_count": 38,
   "metadata": {},
   "outputs": [],
   "source": [
    "from langchain.schema import (\n",
    "    AIMessage,\n",
    "    HumanMessage,\n",
    "    SystemMessage\n",
    ")"
   ]
  },
  {
   "cell_type": "code",
   "execution_count": 39,
   "metadata": {},
   "outputs": [],
   "source": [
    "chunk = {'agent': {'messages': [AIMessage(content='Hello Miguel! How can I assist you today?', response_metadata={'token_usage': {'completion_tokens': 11, 'prompt_tokens': 123, 'total_tokens': 134}, 'model_name': 'gpt-3.5-turbo', 'system_fingerprint': None, 'finish_reason': 'stop', 'logprobs': None}, id='run-05f34bde-9698-4a70-b15a-61dc15c06238-0')]}}"
   ]
  },
  {
   "cell_type": "code",
   "execution_count": 40,
   "metadata": {},
   "outputs": [
    {
     "ename": "KeyError",
     "evalue": "'response'",
     "output_type": "error",
     "traceback": [
      "\u001b[0;31m---------------------------------------------------------------------------\u001b[0m",
      "\u001b[0;31mKeyError\u001b[0m                                  Traceback (most recent call last)",
      "Cell \u001b[0;32mIn[40], line 1\u001b[0m\n\u001b[0;32m----> 1\u001b[0m \u001b[43mchunk\u001b[49m\u001b[43m[\u001b[49m\u001b[38;5;124;43m\"\u001b[39;49m\u001b[38;5;124;43mresponse\u001b[39;49m\u001b[38;5;124;43m\"\u001b[39;49m\u001b[43m]\u001b[49m\u001b[38;5;241m.\u001b[39mcontent\n",
      "\u001b[0;31mKeyError\u001b[0m: 'response'"
     ]
    }
   ],
   "source": [
    "chunk[\"response\"].content"
   ]
  },
  {
   "cell_type": "code",
   "execution_count": null,
   "metadata": {},
   "outputs": [
    {
     "data": {
      "text/plain": [
       "'Hello Miguel! How can I assist you today?'"
      ]
     },
     "execution_count": 60,
     "metadata": {},
     "output_type": "execute_result"
    }
   ],
   "source": [
    "chunk[\"agent\"][\"messages\"][0].content"
   ]
  },
  {
   "cell_type": "code",
   "execution_count": null,
   "metadata": {},
   "outputs": [],
   "source": []
  },
  {
   "cell_type": "markdown",
   "metadata": {},
   "source": [
    "MERMAID.INK GRAPH GENERATOR"
   ]
  },
  {
   "cell_type": "code",
   "execution_count": null,
   "metadata": {},
   "outputs": [],
   "source": [
    "from langchain_core.runnables.graph import CurveStyle, NodeColors, MermaidDrawMethod\n",
    "from IPython.display import display, HTML, Image\n"
   ]
  },
  {
   "cell_type": "code",
   "execution_count": null,
   "metadata": {},
   "outputs": [
    {
     "data": {
      "image/jpeg": "[encoded data removed]",
      "text/plain": [
       "<IPython.core.display.Image object>"
      ]
     },
     "metadata": {},
     "output_type": "display_data"
    }
   ],
   "source": [
    "display(\n",
    "    Image(\n",
    "        app.get_graph().draw_mermaid_png(\n",
    "            draw_method=MermaidDrawMethod.API,\n",
    "        )\n",
    "    )\n",
    ")"
   ]
  }
 ],
 "metadata": {
  "kernelspec": {
   "display_name": "Doc-Expert",
   "language": "python",
   "name": "python3"
  },
  "language_info": {
   "codemirror_mode": {
    "name": "ipython",
    "version": 3
   },
   "file_extension": ".py",
   "mimetype": "text/x-python",
   "name": "python",
   "nbconvert_exporter": "python",
   "pygments_lexer": "ipython3",
   "version": "3.11.9"
  }
 },
 "nbformat": 4,
 "nbformat_minor": 2
}
